{
 "cells": [
  {
   "cell_type": "code",
   "execution_count": 1,
   "id": "d4d03fdb",
   "metadata": {},
   "outputs": [],
   "source": [
    "import numpy as np \n",
    "import matplotlib.pyplot as plt\n",
    "import cv2\n",
    "import time\n",
    "import sys\n",
    "import itertools\n",
    "import os\n",
    "import shutil\n",
    "import random\n",
    "import glob"
   ]
  },
  {
   "cell_type": "code",
   "execution_count": 24,
   "id": "047919d7",
   "metadata": {},
   "outputs": [],
   "source": [
    "path = '12 classes'"
   ]
  },
  {
   "cell_type": "code",
   "execution_count": null,
   "id": "a01b06cc",
   "metadata": {},
   "outputs": [],
   "source": [
    "actors  = os.listdir(path)"
   ]
  },
  {
   "cell_type": "code",
   "execution_count": 112,
   "id": "cf5cc6ad",
   "metadata": {},
   "outputs": [
    {
     "name": "stdout",
     "output_type": "stream",
     "text": [
      "['Morgan Freeman']\n"
     ]
    }
   ],
   "source": [
    "print(actors)"
   ]
  },
  {
   "cell_type": "code",
   "execution_count": 5,
   "id": "e4f5ab93",
   "metadata": {},
   "outputs": [],
   "source": [
    "face_cascade = cv2.CascadeClassifier(\"haarcascade_frontalfaceR_alt.xml\")"
   ]
  },
  {
   "cell_type": "code",
   "execution_count": 6,
   "id": "ce019ea2",
   "metadata": {},
   "outputs": [],
   "source": [
    "def get_cropped(path, size, scale=1.3):\n",
    "    images = [img for img in os.listdir(path) if img.endswith(\".png\")]\n",
    "    for img_name in images:\n",
    "        img_name = os.path.join(path, img_name)\n",
    "        img = cv2.imread(img_name)\n",
    "        faces = face_cascade.detectMultiScale(img, scaleFactor=scale)\n",
    "        if len(faces)  == 0:\n",
    "            os.remove(img_name)\n",
    "        else:\n",
    "            for (x, y, w, h) in faces:\n",
    "                new_img = cv2.resize(img[y:y+h, x:x+w], size, interpolation= cv2.INTER_AREA)\n",
    "                cv2.imwrite(img_name, new_img)"
   ]
  },
  {
   "cell_type": "code",
   "execution_count": 7,
   "id": "d17c4047",
   "metadata": {},
   "outputs": [],
   "source": [
    "for actor in actors:\n",
    "    get_cropped(os.path.join(path, actor), (224, 224))"
   ]
  },
  {
   "cell_type": "code",
   "execution_count": null,
   "id": "d937bd64",
   "metadata": {},
   "outputs": [],
   "source": [
    "# now all pics have been cropped to include only faces\n",
    "# the next step is to delete some pics manually that are either not related or cropped incorrectly"
   ]
  },
  {
   "cell_type": "code",
   "execution_count": null,
   "id": "4b0a8918",
   "metadata": {},
   "outputs": [],
   "source": [
    "while(1):\n",
    "    if keyboard.is_pressed('ctrl'):\n",
    "        pyautogui.click()\n",
    "        time.sleep(.5)\n",
    "        pyautogui.hotkey('delete')\n",
    "        time.sleep(.5)\n",
    "        pyautogui.hotkey('enter')\n",
    "        \n",
    "# this code is executed by pycharm, helps speed up or automate the deletion"
   ]
  },
  {
   "cell_type": "code",
   "execution_count": 51,
   "id": "4953bf81",
   "metadata": {},
   "outputs": [],
   "source": [
    "# This block creates a directory of each actor in three categories (train, test, val) of data files \n",
    "#and if it's excuted more than once it won't affect the existing ones\n",
    "# This cell is run once at the beggining\n",
    "\n",
    "\n",
    "data = ['train','test', 'val']\n",
    "\n",
    "for x in data:\n",
    "    for actor in actors:\n",
    "        parent_dir = \"12 classes\"+f'\\\\{x}'\n",
    "        # print(parent_dir)\n",
    "        directory = f\"{actor}\"\n",
    "        path = os.path.join(parent_dir, directory)\n",
    "        try:\n",
    "            os.makedirs(path)\n",
    "        except FileExistsError:\n",
    "            pass"
   ]
  },
  {
   "cell_type": "code",
   "execution_count": 111,
   "id": "0f98f72e",
   "metadata": {},
   "outputs": [
    {
     "name": "stdout",
     "output_type": "stream",
     "text": [
      "C:\\Users\\shady\\venvs\\AIProjects\\Scripts\\MyFiles\\12 classes\n"
     ]
    }
   ],
   "source": [
    "print(os.getcwd())"
   ]
  },
  {
   "cell_type": "code",
   "execution_count": 110,
   "id": "abce1cdf",
   "metadata": {},
   "outputs": [],
   "source": [
    "os.chdir('../')"
   ]
  },
  {
   "cell_type": "code",
   "execution_count": 109,
   "id": "8336c05c",
   "metadata": {},
   "outputs": [
    {
     "data": {
      "text/plain": [
       "'Megan Fox'"
      ]
     },
     "execution_count": 109,
     "metadata": {},
     "output_type": "execute_result"
    }
   ],
   "source": [
    "actors.pop(0)"
   ]
  },
  {
   "cell_type": "code",
   "execution_count": 114,
   "id": "8769f691",
   "metadata": {},
   "outputs": [
    {
     "data": {
      "text/plain": [
       "['Morgan Freeman']"
      ]
     },
     "execution_count": 114,
     "metadata": {},
     "output_type": "execute_result"
    }
   ],
   "source": [
    "actors"
   ]
  },
  {
   "cell_type": "code",
   "execution_count": 49,
   "id": "ed32f80d",
   "metadata": {},
   "outputs": [],
   "source": [
    "# This cell is run once at the beginning\n",
    "\n",
    "os.chdir('12 classes')\n",
    "for actor in actors:\n",
    "    actor_string = actor.replace(\" \", \"_\" )\n",
    "    os.chdir(actor)\n",
    "    imgs = [i for i in os.listdir(\"./\") if i.endswith(\".jpg\")]\n",
    "    for i in imgs:\n",
    "        os.rename(i, actor_string+f\" {imgs.index(i)}.jpg\") \n",
    "\n",
    "    os.chdir('../')"
   ]
  },
  {
   "cell_type": "code",
   "execution_count": 74,
   "id": "91b7bba9",
   "metadata": {},
   "outputs": [],
   "source": [
    "def cal_train_val_test(num):\n",
    "    if .7*num + .2*num + .1*num == num:\n",
    "        train = round(.7 * num, 0)\n",
    "        val = round(.2 * num, 0)\n",
    "        test = round(.1 * num, 0)\n",
    "    else:\n",
    "        train = round(.7 * num, 0)\n",
    "        val = round(.2 * num, 0)+1\n",
    "        test = round(.1 * num, 0)+1\n",
    "    return int(train), int(val), int(test)"
   ]
  },
  {
   "cell_type": "code",
   "execution_count": 115,
   "id": "916ee65a",
   "metadata": {},
   "outputs": [
    {
     "name": "stdout",
     "output_type": "stream",
     "text": [
      "142 41 20\n"
     ]
    }
   ],
   "source": [
    "x,y,z = cal_train_val_test(203)\n",
    "print(x,y,z)"
   ]
  },
  {
   "cell_type": "code",
   "execution_count": 116,
   "id": "4566752b",
   "metadata": {},
   "outputs": [],
   "source": [
    "# This cell is run once at the beggining\n",
    "# supposing that all classes have at least 360 pics\n",
    "# we can split them on train, val, test as 252, 72, 36 respectively\n",
    "\n",
    "# pics_direc = \"12 classes/\" \n",
    "# os.chdir(pics_direc)\n",
    "\n",
    "for actor in actors:\n",
    "    os.chdir(actor)\n",
    "    imgs = [i for i in os.listdir(\"./\") if i.endswith(\".jpg\")]\n",
    "    x,y,z = cal_train_val_test(len(imgs))\n",
    "    actor_string = actor.replace(\" \", \"_\" )\n",
    "    \n",
    "    for c in random.sample(glob.glob(actor_string+'*'),x):\n",
    "        new_dir = \"../train\"+f\"/{actor}\"\n",
    "        shutil.move(c,new_dir)\n",
    "\n",
    "\n",
    "    for c in random.sample(glob.glob(actor_string+'*'),y):\n",
    "        \n",
    "        new_dir = \"../test\"+f\"/{actor}\"\n",
    "        shutil.move(c,new_dir)\n",
    "\n",
    "    for c in random.sample(glob.glob(actor_string+'*'),z):\n",
    "        new_dir = \"../val\"+f\"/{actor}\"\n",
    "        shutil.move(c,new_dir)\n",
    "        \n",
    "    os.chdir('../')\n",
    "                   \n",
    "os.chdir('../')    \n",
    "    "
   ]
  },
  {
   "cell_type": "code",
   "execution_count": null,
   "id": "95c83196",
   "metadata": {},
   "outputs": [],
   "source": []
  }
 ],
 "metadata": {
  "kernelspec": {
   "display_name": "Python 3 (ipykernel)",
   "language": "python",
   "name": "python3"
  },
  "language_info": {
   "codemirror_mode": {
    "name": "ipython",
    "version": 3
   },
   "file_extension": ".py",
   "mimetype": "text/x-python",
   "name": "python",
   "nbconvert_exporter": "python",
   "pygments_lexer": "ipython3",
   "version": "3.10.5"
  }
 },
 "nbformat": 4,
 "nbformat_minor": 5
}
